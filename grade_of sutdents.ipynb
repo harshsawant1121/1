{
 "cells": [
  {
   "cell_type": "code",
   "execution_count": 1,
   "id": "19e729aa",
   "metadata": {},
   "outputs": [
    {
     "name": "stdout",
     "output_type": "stream",
     "text": [
      "Usage: python simple_student_grade.py <filename>\n"
     ]
    },
    {
     "ename": "SystemExit",
     "evalue": "1",
     "output_type": "error",
     "traceback": [
      "An exception has occurred, use %tb to see the full traceback.\n",
      "\u001b[1;31mSystemExit\u001b[0m\u001b[1;31m:\u001b[0m 1\n"
     ]
    },
    {
     "name": "stderr",
     "output_type": "stream",
     "text": [
      "C:\\Users\\SMART\\anaconda3\\lib\\site-packages\\IPython\\core\\interactiveshell.py:3445: UserWarning: To exit: use 'exit', 'quit', or Ctrl-D.\n",
      "  warn(\"To exit: use 'exit', 'quit', or Ctrl-D.\", stacklevel=1)\n"
     ]
    }
   ],
   "source": [
    "from collections import defaultdict\n",
    "\n",
    "def read_input(filename):\n",
    "    \"\"\"Read input file and return a list of (student_id, grade) tuples\"\"\"\n",
    "    data = []\n",
    "    with open(filename, 'r') as f:\n",
    "        for line in f:\n",
    "            student_id, grade = line.strip().split()\n",
    "            data.append((student_id, int(grade)))\n",
    "    return data\n",
    "\n",
    "def classify_students(data):\n",
    "    \"\"\"Classify students into grade categories\"\"\"\n",
    "    grade_categories = defaultdict(list)\n",
    "    for student_id, grade in data:\n",
    "        if grade >= 90:\n",
    "            grade_categories['A'].append(student_id)\n",
    "        elif grade >= 80:\n",
    "            grade_categories['B'].append(student_id)\n",
    "        elif grade >= 70:\n",
    "            grade_categories['C'].append(student_id)\n",
    "        elif grade >= 60:\n",
    "            grade_categories['D'].append(student_id)\n",
    "        else:\n",
    "            grade_categories['F'].append(student_id)\n",
    "    return grade_categories\n",
    "\n",
    "def main(filename):\n",
    "    # Read input data\n",
    "    data = read_input(filename)\n",
    "    \n",
    "    # Classify students into grade categories\n",
    "    grade_categories = classify_students(data)\n",
    "    \n",
    "    # Print the result\n",
    "    for grade, students in sorted(grade_categories.items()):\n",
    "        print(f\"Grade {grade}: {', '.join(students)}\")\n",
    "\n",
    "if __name__ == \"__main__\":\n",
    "    import sys\n",
    "    \n",
    "    if len(sys.argv) != 2:\n",
    "        print(\"Usage: python simple_student_grade.py <filename>\")\n",
    "        sys.exit(1)\n",
    "    \n",
    "    filename = sys.argv[1]\n",
    "    main(filename)"
   ]
  },
  {
   "cell_type": "code",
   "execution_count": null,
   "id": "97405f9e",
   "metadata": {},
   "outputs": [],
   "source": []
  }
 ],
 "metadata": {
  "kernelspec": {
   "display_name": "Python 3",
   "language": "python",
   "name": "python3"
  },
  "language_info": {
   "codemirror_mode": {
    "name": "ipython",
    "version": 3
   },
   "file_extension": ".py",
   "mimetype": "text/x-python",
   "name": "python",
   "nbconvert_exporter": "python",
   "pygments_lexer": "ipython3",
   "version": "3.8.8"
  }
 },
 "nbformat": 4,
 "nbformat_minor": 5
}
